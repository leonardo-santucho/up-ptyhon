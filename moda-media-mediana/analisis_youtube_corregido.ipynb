{
 "cells": [
  {
   "cell_type": "markdown",
   "metadata": {},
   "source": [
    "# 📊 Análisis de YouTube Trending Videos (Top 1000)\n",
    "\n",
    "Este notebook explora el dataset de los 1000 videos más trending en YouTube al 18 de abril de 2025.\n",
    "Calcularemos media, mediana, moda y visualizaremos la distribución de:\n",
    "- Vistas\n",
    "- Likes\n",
    "- Dislikes"
   ]
  },
  {
   "cell_type": "code",
   "execution_count": null,
   "metadata": {},
   "outputs": [
    {
     "name": "stdout",
     "output_type": "stream",
     "text": [
      "<class 'pandas.core.frame.DataFrame'>\n",
      "RangeIndex: 1000 entries, 0 to 999\n",
      "Data columns (total 3 columns):\n",
      " #   Column       Non-Null Count  Dtype  \n",
      "---  ------       --------------  -----  \n",
      " 0   Video views  1000 non-null   int64  \n",
      " 1   Likes        973 non-null    float64\n",
      " 2   Dislikes     687 non-null    float64\n",
      "dtypes: float64(2), int64(1)\n",
      "memory usage: 23.6 KB\n"
     ]
    }
   ],
   "source": [
    "import pandas as pd\n",
    "import matplotlib.pyplot as plt\n",
    "import seaborn as sns\n",
    "\n",
    "# Cargar el CSV\n",
    "df = pd.read_csv('top-1000-trending-youtube-videos.csv')\n",
    "\n",
    "# Limpiar columnas numéricas\n",
    "cols = ['Video views', 'Likes', 'Dislikes']\n",
    "for col in cols:\n",
    "    df[col] = df[col].str.replace(',', '', regex=False)\n",
    "    df[col] = pd.to_numeric(df[col], errors='coerce')\n",
    "\n",
    "df[cols].info()"
   ]
  },
  {
   "cell_type": "code",
   "execution_count": null,
   "metadata": {},
   "outputs": [
    {
     "name": "stdout",
     "output_type": "stream",
     "text": [
      "\n",
      "📈 Estadísticas para 'Video views':\n",
      "Media: 24,890,216\n",
      "Mediana: 2,829,316\n",
      "Moda: 56,578\n",
      "\n",
      "📈 Estadísticas para 'Likes':\n",
      "Media: 159,208\n",
      "Mediana: 3,604\n",
      "Moda: 2\n",
      "\n",
      "📈 Estadísticas para 'Dislikes':\n",
      "Media: 1,680\n",
      "Mediana: 257\n",
      "Moda: 0\n"
     ]
    }
   ],
   "source": [
    "# Calcular media, mediana y moda\n",
    "for col in cols:\n",
    "    media = df[col].mean()\n",
    "    mediana = df[col].median()\n",
    "    moda = df[col].mode().iloc[0] if not df[col].mode().empty else None\n",
    "    print(f\"\\n📈 Estadísticas para '{col}':\")\n",
    "    print(f\"Media: {media:,.0f}\")\n",
    "    print(f\"Mediana: {mediana:,.0f}\")\n",
    "    print(f\"Moda: {moda:,.0f}\")"
   ]
  },
  {
   "cell_type": "code",
   "execution_count": null,
   "metadata": {},
   "outputs": [],
   "source": [
    "# Visualización: histogramas y boxplots\n",
    "sns.set(style='whitegrid')\n",
    "plt.figure(figsize=(16, 12))\n",
    "\n",
    "for i, col in enumerate(cols, 1):\n",
    "    plt.subplot(3, 2, i * 2 - 1)\n",
    "    sns.histplot(df[col].dropna(), kde=True, bins=40)\n",
    "    plt.title(f'Histograma: {col}')\n",
    "    plt.xlabel(col)\n",
    "    plt.ylabel('Frecuencia')\n",
    "\n",
    "    plt.subplot(3, 2, i * 2)\n",
    "    sns.boxplot(x=df[col].dropna())\n",
    "    plt.title(f'Boxplot: {col}')\n",
    "    plt.xlabel(col)\n",
    "\n",
    "plt.tight_layout()\n",
    "plt.show()"
   ]
  }
 ],
 "metadata": {
  "kernelspec": {
   "display_name": "Python 3 (ipykernel)",
   "language": "python",
   "name": "python3"
  },
  "language_info": {
   "codemirror_mode": {
    "name": "ipython",
    "version": 3
   },
   "file_extension": ".py",
   "mimetype": "text/x-python",
   "name": "python",
   "nbconvert_exporter": "python",
   "pygments_lexer": "ipython3",
   "version": "3.10.16"
  }
 },
 "nbformat": 4,
 "nbformat_minor": 4
}
