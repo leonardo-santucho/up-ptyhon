{
 "cells": [
  {
   "cell_type": "code",
   "execution_count": null,
   "id": "01d92e57",
   "metadata": {
    "lines_to_next_cell": 1
   },
   "outputs": [],
   "source": [
    "import pandas as pd"
   ]
  },
  {
   "cell_type": "code",
   "execution_count": null,
   "id": "adaef27b",
   "metadata": {
    "lines_to_next_cell": 1
   },
   "outputs": [],
   "source": [
    "def cargar_y_limpiar_csv(path):\n",
    "    \"\"\"Carga el CSV y limpia columnas numéricas.\"\"\"\n",
    "    df = pd.read_csv(path)\n",
    "    cols = ['Video views', 'Likes', 'Dislikes']\n",
    "    for col in cols:\n",
    "        df[col] = df[col].str.replace(',', '', regex=False)\n",
    "        df[col] = pd.to_numeric(df[col], errors='coerce')\n",
    "    return df"
   ]
  },
  {
   "cell_type": "code",
   "execution_count": null,
   "id": "481e38a2",
   "metadata": {
    "lines_to_next_cell": 1
   },
   "outputs": [],
   "source": [
    "def top_categorias_por_vistas(df, top_n=3):\n",
    "    \"\"\"Devuelve las top N categorías con más vistas promedio.\"\"\"\n",
    "    if 'Category' not in df.columns:\n",
    "        raise ValueError(\"La columna 'Category' no existe en el dataset.\")\n",
    "    \n",
    "    resumen = (\n",
    "        df.groupby('Category')['Video views']\n",
    "        .mean()\n",
    "        .sort_values(ascending=False)\n",
    "        .head(top_n)\n",
    "    )\n",
    "    return resumen"
   ]
  },
  {
   "cell_type": "code",
   "execution_count": null,
   "id": "ec279185",
   "metadata": {},
   "outputs": [],
   "source": [
    "# Solo se ejecuta si corrés este script directamente\n",
    "if __name__ == \"__main__\":\n",
    "    df = cargar_y_limpiar_csv('top-1000-trending-youtube-videos.csv')\n",
    "    top = top_categorias_por_vistas(df)\n",
    "    print(\"📺 Categorías más vistas en promedio:\")\n",
    "    print(top)"
   ]
  }
 ],
 "metadata": {
  "jupytext": {
   "cell_metadata_filter": "-all",
   "main_language": "python",
   "notebook_metadata_filter": "-all"
  }
 },
 "nbformat": 4,
 "nbformat_minor": 5
}
